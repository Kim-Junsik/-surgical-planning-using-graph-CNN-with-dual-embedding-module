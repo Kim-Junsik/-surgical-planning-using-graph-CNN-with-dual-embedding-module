{
 "cells": [
  {
   "cell_type": "markdown",
   "id": "1dc33548",
   "metadata": {},
   "source": [
    "# Node Classification Version GCN"
   ]
  },
  {
   "cell_type": "code",
   "execution_count": null,
   "id": "87868da2",
   "metadata": {},
   "outputs": [],
   "source": [
    "import os\n",
    "os.environ['CUDA_VISIBLE_DEVICES'] = \"0\"\n",
    "\n",
    "import cv2\n",
    "import argparse\n",
    "import torch\n",
    "import tqdm\n",
    "import random\n",
    "from torchsummary import summary\n",
    "from torch.utils.data import DataLoader\n",
    "import matplotlib.pyplot as plt\n",
    "from glob import glob\n",
    "import seaborn as sns\n",
    "from torchsummary import summary\n",
    "\n",
    "from models.DAG import DeepAdaptiveGraph\n",
    "from Dataset import *\n",
    "from torchvision import transforms\n",
    "from preprocessing import *\n",
    "from trainer import experiment\n",
    "from settings import Abs_L2_Adj_backbone_hrnet32_Aug_512x512_Tanh_DoubleGCN\n",
    "\n",
    "RANDOM_SEED = 42\n",
    "torch.manual_seed(RANDOM_SEED)\n",
    "random.seed(RANDOM_SEED)\n",
    "torch.backends.cudnn.deterministic = True\n",
    "torch.backends.cudnn.benchmark = False \n",
    "\n",
    "args = Abs_L2_Adj_backbone_hrnet32_Aug_512x512_Tanh_DoubleGCN.args\n",
    "\n",
    "transform_train = transforms.Compose([\n",
    "    Gamma_2D(),\n",
    "    Shift_2D(),\n",
    "#     RandomBrightness(),\n",
    "    Rotation_2D(),\n",
    "    RandomSharp(),\n",
    "    RandomBlur(),\n",
    "    RandomNoise(),\n",
    "    ToTensor(),\n",
    "    ])\n",
    "\n",
    "transform_test = transforms.Compose([\n",
    "    ToTensor(),\n",
    "])\n",
    "\n",
    "trainset = Dataset_Image_Point_Test(args.data.train, \n",
    "                               mode = \"train\", \n",
    "                               transform=transform_train, \n",
    "                               train_size=(args.img_height, args.img_width))\n",
    "\n",
    "validset = Dataset_Image_Point_Test(args.data.valid, \n",
    "                               mode = \"valid\", \n",
    "                               transform=transform_test, \n",
    "                               train_size=(args.img_height, args.img_width))\n",
    "\n",
    "train_loader = DataLoader(trainset, batch_size=args.batch_size, shuffle=args.shuffle)\n",
    "valid_loader = DataLoader(validset, batch_size=1, shuffle=False)"
   ]
  },
  {
   "cell_type": "code",
   "execution_count": null,
   "id": "a00fa7b1",
   "metadata": {
    "scrolled": false
   },
   "outputs": [],
   "source": [
    "model = DeepAdaptiveGraph(args, absolute = True, L2 = True, softmax = False, sigmoid = False, clip = False)\n",
    "# weight = torch.load('./result/Abs_L2_Adj_backbone_hrnet32_Aug_512x512_Tanh/weights/best155_model.pth')\n",
    "# model.load_state_dict(weight)\n",
    "\n",
    "logs = experiment(model, train_loader, valid_loader, args)"
   ]
  }
 ],
 "metadata": {
  "kernelspec": {
   "display_name": "Python 3 (ipykernel)",
   "language": "python",
   "name": "python3"
  },
  "language_info": {
   "codemirror_mode": {
    "name": "ipython",
    "version": 3
   },
   "file_extension": ".py",
   "mimetype": "text/x-python",
   "name": "python",
   "nbconvert_exporter": "python",
   "pygments_lexer": "ipython3",
   "version": "3.8.10"
  }
 },
 "nbformat": 4,
 "nbformat_minor": 5
}
